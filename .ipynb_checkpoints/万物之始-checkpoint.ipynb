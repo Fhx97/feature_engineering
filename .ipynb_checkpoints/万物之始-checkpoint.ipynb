{
 "cells": [
  {
   "cell_type": "markdown",
   "id": "c61b8e0b",
   "metadata": {},
   "source": [
    "### 数据是对现实世界现象的观察。\n",
    "### 模型尝试着从数据中了解世界就像用不完整的拼图以及一堆额外的碎片拼凑出现实。\n",
    "### 特征是原始数据的数学表示。\n",
    "&emsp;特征的数量也是很重要的。如果没有足够的信息特征，模型就无法完成最终的任务。如果存在太多的特征，或者如果它们大多数是无关紧要的，那么训练这个模型会更加的棘手并且代价更多。在训练过程中可能会出现一些错误影响模型的表现。\n",
    "\n",
    "\n",
    "&emsp;特征和模型位于原始数据和期望的观察结果之间。在机器学习工作流程中，我们不仅挑选模型，还挑选特征。这是一个双节杆，一个选择会影响另一个。良好的特征使后续的建模步骤变得简单，并且所得到的模型能更容易实现所需的任务。糟糕的特征可能需要更复杂的模型才能达到相同的性能水平。  \n"
   ]
  },
  {
   "cell_type": "markdown",
   "id": "7215b45b",
   "metadata": {},
   "source": [
    "### 标量：单个数字特征。\n",
    "### 向量：标量的有序列表。\n",
    "### 向量位于向量空间中。"
   ]
  },
  {
   "cell_type": "code",
   "execution_count": 1,
   "id": "0d5340e0",
   "metadata": {},
   "outputs": [
    {
     "data": {
      "text/plain": [
       "array([ 7, 66, 25, 68,  4, 27, 84, 32, 23, 64, 45, 38, 17, 17, 86, 91, 48,\n",
       "       54,  6, 35])"
      ]
     },
     "execution_count": 1,
     "metadata": {},
     "output_type": "execute_result"
    }
   ],
   "source": [
    "# 用固定宽度的箱进行量化计数\n",
    "import numpy as np\n",
    "small_counts = np.random.randint(0, 100, 20)\n",
    "small_counts"
   ]
  },
  {
   "cell_type": "code",
   "execution_count": 2,
   "id": "0d956b06",
   "metadata": {},
   "outputs": [
    {
     "data": {
      "text/plain": [
       "array([0, 6, 2, 6, 0, 2, 8, 3, 2, 6, 4, 3, 1, 1, 8, 9, 4, 5, 0, 3],\n",
       "      dtype=int32)"
      ]
     },
     "execution_count": 2,
     "metadata": {},
     "output_type": "execute_result"
    }
   ],
   "source": [
    "np.floor_divide(small_counts, 10)"
   ]
  },
  {
   "cell_type": "code",
   "execution_count": 3,
   "id": "14aed667",
   "metadata": {},
   "outputs": [],
   "source": [
    "large_counts = [296, 8286, 64011, 80, 3, 725, 867, 2215, 7689, 11495, 91897, 44, 28, 7971, 926, 122, 22222]"
   ]
  },
  {
   "cell_type": "code",
   "execution_count": 4,
   "id": "10fb5e24",
   "metadata": {},
   "outputs": [
    {
     "data": {
      "text/plain": [
       "array([2., 3., 4., 1., 0., 2., 2., 3., 3., 4., 4., 1., 1., 3., 2., 2., 4.])"
      ]
     },
     "execution_count": 4,
     "metadata": {},
     "output_type": "execute_result"
    }
   ],
   "source": [
    "np.floor(np.log10(large_counts))"
   ]
  },
  {
   "cell_type": "code",
   "execution_count": 6,
   "id": "20f60d49",
   "metadata": {},
   "outputs": [
    {
     "data": {
      "text/plain": [
       "array([1, 2, 3, 0, 0, 1, 1, 2, 2, 3, 3, 0, 0, 2, 1, 0, 3], dtype=int64)"
      ]
     },
     "execution_count": 6,
     "metadata": {},
     "output_type": "execute_result"
    }
   ],
   "source": [
    "# 按分位数分箱计数\n",
    "import pandas as pd\n",
    "pd.qcut(large_counts, 4, labels=False)"
   ]
  },
  {
   "cell_type": "code",
   "execution_count": 7,
   "id": "b54c841f",
   "metadata": {},
   "outputs": [
    {
     "data": {
      "text/plain": [
       "0.25     122.0\n",
       "0.50     926.0\n",
       "0.75    8286.0\n",
       "dtype: float64"
      ]
     },
     "execution_count": 7,
     "metadata": {},
     "output_type": "execute_result"
    }
   ],
   "source": [
    "large_counts_series = pd.Series(large_counts)\n",
    "large_counts_series.quantile([0.25, 0.5, 0.75])"
   ]
  },
  {
   "cell_type": "code",
   "execution_count": 8,
   "id": "973765ed",
   "metadata": {},
   "outputs": [
    {
     "data": {
      "text/plain": [
       "'Emma knocked on the door. No answer. She knocked again and waited. There was a large maple tree next to the house. Emma looked up the tree and saw a giant raven perched at the treetop. Under the afternoon sun, the raven gleamed magnificently. Its beak was hard and pointed, its claws sharp and strong. It looked regal and imposing. It reigned the tree it stood on. The raven was looking straight at Emma with its beady black eyes. Emma felt slightly intimidated. She took a step back from the door and tentatively said, “hello?” '"
      ]
     },
     "execution_count": 8,
     "metadata": {},
     "output_type": "execute_result"
    }
   ],
   "source": [
    "text = 'Emma knocked on the door. No answer. She knocked again and waited. There was a large maple tree next to the house. Emma looked up the tree and saw a giant raven perched at the treetop. Under the afternoon sun, the raven gleamed magnificently. Its beak was hard and pointed, its claws sharp and strong. It looked regal and imposing. It reigned the tree it stood on. The raven was looking straight at Emma with its beady black eyes. Emma felt slightly intimidated. She took a step back from the door and tentatively said, “hello?” '\n",
    "text"
   ]
  },
  {
   "cell_type": "code",
   "execution_count": 1,
   "id": "b1da08bb",
   "metadata": {},
   "outputs": [],
   "source": [
    "# 词干解析\n",
    "# 词干解析的确有一个计算成本。 最终收益是否大于成本取决于应用程序。\n",
    "import nltk"
   ]
  },
  {
   "cell_type": "code",
   "execution_count": 2,
   "id": "adbf6412",
   "metadata": {},
   "outputs": [],
   "source": [
    "stemmer = nltk.stem.porter.PorterStemmer() "
   ]
  },
  {
   "cell_type": "code",
   "execution_count": 3,
   "id": "cb419e30",
   "metadata": {},
   "outputs": [
    {
     "data": {
      "text/plain": [
       "'feng'"
      ]
     },
     "execution_count": 3,
     "metadata": {},
     "output_type": "execute_result"
    }
   ],
   "source": [
    "stemmer.stem('feng')"
   ]
  },
  {
   "cell_type": "code",
   "execution_count": 5,
   "id": "e59ba763",
   "metadata": {},
   "outputs": [
    {
     "data": {
      "text/plain": [
       "'sixti'"
      ]
     },
     "execution_count": 5,
     "metadata": {},
     "output_type": "execute_result"
    }
   ],
   "source": [
    "stemmer.stem('sixty')"
   ]
  },
  {
   "cell_type": "markdown",
   "id": "31a33682",
   "metadata": {},
   "source": [
    "### Tf-Idf（词频-逆文档频）\n",
    "&emsp;tf-idf不是查看每个文档中每个单词的原始计数，而是查看每个单词计数除以出现该单词的文档数量的标准化计数。  \n",
    "&emsp;如果一个单词出现在许多文档中，则其逆文档频率接近1。如果单词出现在较少文档中，则逆文档频率要高得多。  \n",
    "&emsp;因此tf-idf使罕见词语更加突出，并有效地忽略了常见词汇。"
   ]
  },
  {
   "cell_type": "markdown",
   "id": "6ba93b11",
   "metadata": {},
   "source": [
    "### sigmoid函数\n",
    "&emsp;逻辑回归是一个简单的线性分类器。通过对输入特征的加权组合，输入到一个sigmoid函数。sigmoid函数将任何实数平滑的映射到介于0和1之间。由于逻辑回归比较简单，因此它通常是最先接触的分类器。"
   ]
  }
 ],
 "metadata": {
  "kernelspec": {
   "display_name": "Python 3 (ipykernel)",
   "language": "python",
   "name": "python3"
  },
  "language_info": {
   "codemirror_mode": {
    "name": "ipython",
    "version": 3
   },
   "file_extension": ".py",
   "mimetype": "text/x-python",
   "name": "python",
   "nbconvert_exporter": "python",
   "pygments_lexer": "ipython3",
   "version": "3.11.5"
  }
 },
 "nbformat": 4,
 "nbformat_minor": 5
}
